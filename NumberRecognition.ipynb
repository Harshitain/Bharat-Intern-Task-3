{
  "nbformat": 4,
  "nbformat_minor": 0,
  "metadata": {
    "colab": {
      "provenance": []
    },
    "kernelspec": {
      "name": "python3",
      "display_name": "Python 3"
    },
    "language_info": {
      "name": "python"
    }
  },
  "cells": [
    {
      "cell_type": "code",
      "execution_count": 3,
      "metadata": {
        "colab": {
          "base_uri": "https://localhost:8080/"
        },
        "id": "1fAoPBGxXKbI",
        "outputId": "d464f1eb-f18b-45d2-e500-827a687483cb"
      },
      "outputs": [
        {
          "output_type": "stream",
          "name": "stdout",
          "text": [
            "Downloading data from https://storage.googleapis.com/tensorflow/tf-keras-datasets/mnist.npz\n",
            "11490434/11490434 [==============================] - 0s 0us/step\n",
            "(60000, 28, 28) (60000,)\n"
          ]
        }
      ],
      "source": [
        "import keras\n",
        "from keras.datasets import mnist\n",
        "from keras.models import Sequential\n",
        "from keras.layers import Dense, Dropout, Flatten\n",
        "from keras.layers import Conv2D, MaxPooling2D\n",
        "from keras import backend as K\n",
        "\n",
        "# the data, split between train and test sets\n",
        "(x_train, y_train), (x_test, y_test) = mnist.load_data()\n",
        "\n",
        "print(x_train.shape, y_train.shape)"
      ]
    },
    {
      "cell_type": "code",
      "source": [
        "from google.colab import drive\n",
        "drive.mount('/content/drive')"
      ],
      "metadata": {
        "id": "Uf5VZwe5ZHjP",
        "colab": {
          "base_uri": "https://localhost:8080/"
        },
        "outputId": "8de18cf3-292f-4b70-830c-9c45f55cb444"
      },
      "execution_count": 2,
      "outputs": [
        {
          "output_type": "stream",
          "name": "stdout",
          "text": [
            "Mounted at /content/drive\n"
          ]
        }
      ]
    },
    {
      "cell_type": "code",
      "source": [
        "batch_size = 128\n",
        "num_classes = 10\n",
        "epochs = 10\n",
        "\n",
        "model = Sequential()\n",
        "model.add(Conv2D(32, kernel_size=(3, 3),activation='relu',input_shape=input_shape))\n",
        "model.add(Conv2D(64, (3, 3), activation='relu'))\n",
        "model.add(MaxPooling2D(pool_size=(2, 2)))\n",
        "model.add(Dropout(0.25))\n",
        "model.add(Flatten())\n",
        "model.add(Dense(256, activation='relu'))\n",
        "model.add(Dropout(0.5))\n",
        "model.add(Dense(num_classes, activation='softmax'))\n",
        "\n",
        "model.compile(loss=keras.losses.categorical_crossentropy,optimizer=keras.optimizers.Adadelta(),metrics=['accuracy'])"
      ],
      "metadata": {
        "id": "J2MaI0tQae2b"
      },
      "execution_count": 10,
      "outputs": []
    },
    {
      "cell_type": "code",
      "source": [
        "x_train = x_train.reshape(x_train.shape[0], 28, 28, 1)\n",
        "x_test = x_test.reshape(x_test.shape[0], 28, 28, 1)\n",
        "input_shape = (28, 28, 1)\n",
        "\n",
        "# convert class vectors to binary class matrices\n",
        "y_train = keras.utils.to_categorical(y_train, num_classes)\n",
        "y_test = keras.utils.to_categorical(y_test, num_classes)\n",
        "\n",
        "x_train = x_train.astype('float32')\n",
        "x_test = x_test.astype('float32')\n",
        "x_train /= 255\n",
        "x_test /= 255\n",
        "print('x_train shape:', x_train.shape)\n",
        "print(x_train.shape[0], 'train samples')\n",
        "print(x_test.shape[0], 'test samples')"
      ],
      "metadata": {
        "colab": {
          "base_uri": "https://localhost:8080/"
        },
        "id": "evoHoZcCaC7F",
        "outputId": "da7d6ff9-92d6-43a3-aa1c-723d013819e0"
      },
      "execution_count": 6,
      "outputs": [
        {
          "output_type": "stream",
          "name": "stdout",
          "text": [
            "x_train shape: (60000, 28, 28, 1)\n",
            "60000 train samples\n",
            "10000 test samples\n"
          ]
        }
      ]
    },
    {
      "cell_type": "code",
      "source": [
        "hist = model.fit(x_train, y_train,batch_size=batch_size,epochs=epochs,verbose=1,validation_data=(x_test, y_test))\n",
        "print(\"The model has successfully trained\")\n",
        "\n",
        "model.save('mnist.h5')\n",
        "print(\"Saving the model as mnist.h5\")"
      ],
      "metadata": {
        "colab": {
          "base_uri": "https://localhost:8080/"
        },
        "id": "OQnrhrQLaVBf",
        "outputId": "85f12372-fd58-48f0-c0b6-f0c1f1988aa1"
      },
      "execution_count": 7,
      "outputs": [
        {
          "output_type": "stream",
          "name": "stdout",
          "text": [
            "Epoch 1/10\n",
            "469/469 [==============================] - 190s 401ms/step - loss: 2.2779 - accuracy: 0.1532 - val_loss: 2.2268 - val_accuracy: 0.3609\n",
            "Epoch 2/10\n",
            "469/469 [==============================] - 187s 398ms/step - loss: 2.1984 - accuracy: 0.2955 - val_loss: 2.1295 - val_accuracy: 0.6056\n",
            "Epoch 3/10\n",
            "469/469 [==============================] - 188s 400ms/step - loss: 2.0949 - accuracy: 0.4312 - val_loss: 1.9945 - val_accuracy: 0.7062\n",
            "Epoch 4/10\n",
            "469/469 [==============================] - 185s 393ms/step - loss: 1.9458 - accuracy: 0.5365 - val_loss: 1.8012 - val_accuracy: 0.7482\n",
            "Epoch 5/10\n",
            "469/469 [==============================] - 188s 402ms/step - loss: 1.7476 - accuracy: 0.6034 - val_loss: 1.5514 - val_accuracy: 0.7793\n",
            "Epoch 6/10\n",
            "469/469 [==============================] - 185s 394ms/step - loss: 1.5146 - accuracy: 0.6455 - val_loss: 1.2808 - val_accuracy: 0.8021\n",
            "Epoch 7/10\n",
            "469/469 [==============================] - 185s 395ms/step - loss: 1.2895 - accuracy: 0.6827 - val_loss: 1.0441 - val_accuracy: 0.8209\n",
            "Epoch 8/10\n",
            "469/469 [==============================] - 185s 394ms/step - loss: 1.1118 - accuracy: 0.7031 - val_loss: 0.8689 - val_accuracy: 0.8343\n",
            "Epoch 9/10\n",
            "469/469 [==============================] - 183s 390ms/step - loss: 0.9808 - accuracy: 0.7268 - val_loss: 0.7476 - val_accuracy: 0.8427\n",
            "Epoch 10/10\n",
            "469/469 [==============================] - 184s 392ms/step - loss: 0.8876 - accuracy: 0.7409 - val_loss: 0.6627 - val_accuracy: 0.8514\n",
            "The model has successfully trained\n",
            "Saving the model as mnist.h5\n"
          ]
        }
      ]
    },
    {
      "cell_type": "code",
      "source": [
        "score = model.evaluate(x_test, y_test, verbose=0)\n",
        "print('Test loss:', score[0])\n",
        "print('Test accuracy:', score[1])"
      ],
      "metadata": {
        "colab": {
          "base_uri": "https://localhost:8080/"
        },
        "id": "4ViCLjQ-ajdg",
        "outputId": "802f217d-4569-48da-8ccb-ec6f0841d27f"
      },
      "execution_count": 8,
      "outputs": [
        {
          "output_type": "stream",
          "name": "stdout",
          "text": [
            "Test loss: 0.6626942157745361\n",
            "Test accuracy: 0.8514000177383423\n"
          ]
        }
      ]
    },
    {
      "cell_type": "code",
      "source": [],
      "metadata": {
        "id": "69OKirf8iXt2"
      },
      "execution_count": null,
      "outputs": []
    }
  ]
}